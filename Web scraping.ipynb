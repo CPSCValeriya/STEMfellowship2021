{
 "cells": [
  {
   "cell_type": "code",
   "execution_count": 1,
   "metadata": {},
   "outputs": [],
   "source": [
    "import requests\n",
    "import re\n",
    "import numpy as np\n",
    "import pandas as pd"
   ]
  },
  {
   "cell_type": "markdown",
   "metadata": {},
   "source": [
    "## Gathering Data"
   ]
  },
  {
   "cell_type": "code",
   "execution_count": 2,
   "metadata": {},
   "outputs": [],
   "source": [
    "# Get page and check if response if valid\n",
    "page = requests.get(\"https://transmission.bpa.gov/business/operations/wind/baltwg.txt\")\n",
    "assert(page.status_code == 200)"
   ]
  },
  {
   "cell_type": "code",
   "execution_count": 3,
   "metadata": {},
   "outputs": [],
   "source": [
    "# Encode raw bytes into utf-8 string\n",
    "page_content = page.content.decode(\"utf-8\")"
   ]
  },
  {
   "cell_type": "markdown",
   "metadata": {},
   "source": [
    "## Data Extraction"
   ]
  },
  {
   "cell_type": "code",
   "execution_count": 4,
   "metadata": {},
   "outputs": [
    {
     "name": "stdout",
     "output_type": "stream",
     "text": [
      "BPA Balancing Authority Load & Total Wind Generation\r\n",
      "at 5-minute intervals, last 7 days\r\n",
      "Dates: 29Aug2021 - 05Sep2021 (last updated 4Sep2021 21:01:03) Pacific Time\r\n",
      "Based on 5-min MW readings from the BPA SCADA system for points 45583, 79687, 79682, 164377, 70681\r\n",
      "\r\n",
      "This represents loads and resources in BPA's Balancing Authority (BA) including some that are not BPA's.\r\n",
      "It does not include BPA loads served by transfer, scheduled out of region,\r\n",
      "or scheduled to customers with their own BAs such as Seattle and Tacoma\r\n",
      "\r\n",
      "BPA/Technical Operations (TOT-OpInfo@bpa.gov)\r\n",
      "\r\n",
      "\n"
     ]
    }
   ],
   "source": [
    "# Seperate information header and numerical data\n",
    "text = re.split('Date/Time', page_content)\n",
    "\n",
    "# Information\n",
    "print(text[0])"
   ]
  },
  {
   "cell_type": "code",
   "execution_count": 5,
   "metadata": {},
   "outputs": [
    {
     "data": {
      "text/plain": [
       "'\\nTimestamp\\tLoad\\tWind\\tHydro\\tFossil/Biomass\\tNuclear\\r\\n08/29/2021 00:00\\t5125\\t31\\t5253\\t1130\\t1145\\r\\n08/29/20'"
      ]
     },
     "execution_count": 5,
     "metadata": {},
     "output_type": "execute_result"
    }
   ],
   "source": [
    "# Raw data\n",
    "data = text[1]\n",
    "data = '\\nTimestamp\\t' + data.lstrip()\n",
    "\n",
    "# Sample data\n",
    "data[0:100]"
   ]
  },
  {
   "cell_type": "markdown",
   "metadata": {},
   "source": [
    "### Parse Data"
   ]
  },
  {
   "cell_type": "code",
   "execution_count": 6,
   "metadata": {},
   "outputs": [],
   "source": [
    "# Parse rows\n",
    "rows = str.split(data, sep = '\\r')\n",
    "\n",
    "# fix odd heading seperation\n",
    "rows[0] = rows[0].replace('/','\\t')\n",
    "\n",
    "# Parse data seperated by tabs\n",
    "matrix = [str.split(x,'\\t') for x in rows]\n",
    "df = pd.DataFrame([str.split(x,'\\t') for x in rows])\n",
    "\n",
    "# Clean leading white space\n",
    "df[0]= df[0].str.lstrip()\n",
    "\n",
    "# Setting header and index\n",
    "header_row = 0\n",
    "df.columns = df.iloc[header_row]\n",
    "df = df.drop(header_row)\n",
    "df = df.set_index(\"Timestamp\")"
   ]
  },
  {
   "cell_type": "markdown",
   "metadata": {},
   "source": [
    "### Working with missing values"
   ]
  },
  {
   "cell_type": "code",
   "execution_count": 7,
   "metadata": {},
   "outputs": [],
   "source": [
    "# Remove empty column\n",
    "df = df.drop(columns=\"Nuclear\")\n",
    "\n",
    "# Make missing values readable\n",
    "df = df.replace(\"\", np.NaN)\n",
    "\n",
    "# Removing rows with less than 3 data points\n",
    "df = df.dropna(how='all')"
   ]
  },
  {
   "cell_type": "markdown",
   "metadata": {},
   "source": [
    "### Exporting clean data"
   ]
  },
  {
   "cell_type": "code",
   "execution_count": 8,
   "metadata": {},
   "outputs": [],
   "source": [
    "df.to_csv(\"data/clean_energy_data.csv\")"
   ]
  }
 ],
 "metadata": {
  "kernelspec": {
   "display_name": "Python 3",
   "language": "python",
   "name": "python3"
  },
  "language_info": {
   "codemirror_mode": {
    "name": "ipython",
    "version": 3
   },
   "file_extension": ".py",
   "mimetype": "text/x-python",
   "name": "python",
   "nbconvert_exporter": "python",
   "pygments_lexer": "ipython3",
   "version": "3.8.5"
  }
 },
 "nbformat": 4,
 "nbformat_minor": 4
}
